{
  "nbformat": 4,
  "nbformat_minor": 0,
  "metadata": {
    "colab": {
      "provenance": []
    },
    "kernelspec": {
      "name": "python3",
      "display_name": "Python 3"
    },
    "language_info": {
      "name": "python"
    }
  },
  "cells": [
    {
      "cell_type": "code",
      "source": [
        "!python3 --version  # ile hangi sürümü kullandığınızı görebilirsiniz."
      ],
      "metadata": {
        "colab": {
          "base_uri": "https://localhost:8080/"
        },
        "id": "6rAWjKoYvD6H",
        "outputId": "f9e85841-2c7c-4371-9629-e74c36d3188c"
      },
      "execution_count": 3,
      "outputs": [
        {
          "output_type": "stream",
          "name": "stdout",
          "text": [
            "Python 3.10.12\n"
          ]
        }
      ]
    },
    {
      "cell_type": "code",
      "source": [
        "!python3  -V   # ile de hangi sürümü kullandığınızı görebilirsiniz."
      ],
      "metadata": {
        "colab": {
          "base_uri": "https://localhost:8080/"
        },
        "id": "LR3aHW3lwSdj",
        "outputId": "f769d4c1-4f82-42c2-9af4-2e9d3ac0e7cc"
      },
      "execution_count": 6,
      "outputs": [
        {
          "output_type": "stream",
          "name": "stdout",
          "text": [
            "Python 3.10.12\n"
          ]
        }
      ]
    },
    {
      "cell_type": "code",
      "execution_count": 2,
      "metadata": {
        "colab": {
          "base_uri": "https://localhost:8080/"
        },
        "id": "K-wTMepzuuzq",
        "outputId": "7c78319b-e661-498f-cbe8-e98b066b6839"
      },
      "outputs": [
        {
          "output_type": "stream",
          "name": "stdout",
          "text": [
            "Hallo\n"
          ]
        }
      ],
      "source": [
        "print ('Hello')\n",
        "                 # print yazma komutudur. Tırnak içinde (çift veya tek tırnak kullanılabilir) yazmamız gerekir.\n",
        "                 # hangi tırnak ile başladıysa öyle bitmeli tek ise tek tırnak ile çift tırnak ile\n",
        "                 # ise çift tırnak işareti ile bitmelidir."
      ]
    },
    {
      "cell_type": "markdown",
      "source": [
        "**TIRNAK MESELESİ**\n",
        "\n",
        "Python da bir sabit mesaj ekrana basılacaksa print deyimi yanında tek tırnak ya da çift tırnak, 3 çift veya 3 tek tırnak da kullanılabilir."
      ],
      "metadata": {
        "id": "rvvw0e3UzXtA"
      }
    },
    {
      "cell_type": "code",
      "source": [
        "print (''' Hello''')  # 3 tane tek tırnak kullandık arasına mesajımızı yazdık yine aynı çıktıyı verir.\n",
        "                      # Tırnak arasına konulan her şey doğrudan ekrana yazılır."
      ],
      "metadata": {
        "colab": {
          "base_uri": "https://localhost:8080/"
        },
        "id": "9IRdQuT5zfDT",
        "outputId": "7ec11a24-bf2d-4c2a-f39f-a2b4246f4fe8"
      },
      "execution_count": 7,
      "outputs": [
        {
          "output_type": "stream",
          "name": "stdout",
          "text": [
            " Hello\n"
          ]
        }
      ]
    },
    {
      "cell_type": "code",
      "source": [
        "print ('Merhaba Dünya')"
      ],
      "metadata": {
        "colab": {
          "base_uri": "https://localhost:8080/"
        },
        "id": "1v0TjZyI0SaD",
        "outputId": "a4c83ef4-2255-4ac0-a976-1c39ebacf2aa"
      },
      "execution_count": 8,
      "outputs": [
        {
          "output_type": "stream",
          "name": "stdout",
          "text": [
            "Merhaba Dünya\n"
          ]
        }
      ]
    },
    {
      "cell_type": "code",
      "source": [
        "print(\"SELAM\")"
      ],
      "metadata": {
        "colab": {
          "base_uri": "https://localhost:8080/"
        },
        "id": "WZSyAjbc1GTf",
        "outputId": "bd13a458-ac8c-4fd1-d5fe-4de03caf466a"
      },
      "execution_count": 15,
      "outputs": [
        {
          "output_type": "stream",
          "name": "stdout",
          "text": [
            "SELAM\n"
          ]
        }
      ]
    },
    {
      "cell_type": "code",
      "source": [
        "print ('''\"<ipython-input-14-fe8e9c90c0b2>\", line 1\n",
        "    print(\"SELAM\"\n",
        "                 ^\n",
        "SyntaxError: incomplete input''')\n",
        "                # Tek veya çift tırnaklar tek satırlı mesajlar için kullanılır.\n",
        "                # 3 tek tırnak veya 3 çift tırnaklarla çok satılı mesajlar için kullanılır."
      ],
      "metadata": {
        "colab": {
          "base_uri": "https://localhost:8080/"
        },
        "id": "GSq8ks1L1bL7",
        "outputId": "5b9d980f-395b-4dfe-e122-f46f639e2acb"
      },
      "execution_count": 16,
      "outputs": [
        {
          "output_type": "stream",
          "name": "stdout",
          "text": [
            "\"<ipython-input-14-fe8e9c90c0b2>\", line 1\n",
            "    print(\"SELAM\"\n",
            "                 ^\n",
            "SyntaxError: incomplete input\n"
          ]
        }
      ]
    },
    {
      "cell_type": "code",
      "source": [
        "print('3.14') # Tırnak içerisine yazılan mesaj ve text string dir.\n",
        "              # String"
      ],
      "metadata": {
        "colab": {
          "base_uri": "https://localhost:8080/"
        },
        "id": "xeMbgpw92Vo4",
        "outputId": "36956bfe-772a-4e38-d38f-85e96a4b0d14"
      },
      "execution_count": 19,
      "outputs": [
        {
          "output_type": "stream",
          "name": "stdout",
          "text": [
            "3.14\n"
          ]
        }
      ]
    },
    {
      "cell_type": "code",
      "source": [
        "print(3.14) # Tırnak içerisinde değilse float tır yani sayidir."
      ],
      "metadata": {
        "colab": {
          "base_uri": "https://localhost:8080/"
        },
        "id": "Zl0frqoD2dD1",
        "outputId": "5b683c52-81b3-4dca-cc6f-ec974d016fe8"
      },
      "execution_count": 20,
      "outputs": [
        {
          "output_type": "stream",
          "name": "stdout",
          "text": [
            "3.14\n"
          ]
        }
      ]
    },
    {
      "cell_type": "code",
      "source": [
        "type (3.14) # Type deyimi veri tipini gösterir."
      ],
      "metadata": {
        "colab": {
          "base_uri": "https://localhost:8080/"
        },
        "id": "PZS_zCo33Lk5",
        "outputId": "03756fbe-a228-468b-830a-cb8452cb2145"
      },
      "execution_count": 21,
      "outputs": [
        {
          "output_type": "execute_result",
          "data": {
            "text/plain": [
              "float"
            ]
          },
          "metadata": {},
          "execution_count": 21
        }
      ]
    },
    {
      "cell_type": "code",
      "source": [
        "type ('hello') # Type deyimi str sözel veridir."
      ],
      "metadata": {
        "colab": {
          "base_uri": "https://localhost:8080/"
        },
        "id": "j8-kG_fe3VYc",
        "outputId": "97481d25-1515-4638-b9cb-9dd4f0fcd7ef"
      },
      "execution_count": 22,
      "outputs": [
        {
          "output_type": "execute_result",
          "data": {
            "text/plain": [
              "str"
            ]
          },
          "metadata": {},
          "execution_count": 22
        }
      ]
    },
    {
      "cell_type": "code",
      "source": [
        "print (3+10) # Type deyimi float tır sayısal veri tipidir."
      ],
      "metadata": {
        "colab": {
          "base_uri": "https://localhost:8080/"
        },
        "id": "4WAzeEgW3da9",
        "outputId": "5062b712-1f99-430d-b853-e7771476b2db"
      },
      "execution_count": 23,
      "outputs": [
        {
          "output_type": "stream",
          "name": "stdout",
          "text": [
            "13\n"
          ]
        }
      ]
    },
    {
      "cell_type": "code",
      "source": [
        "print('ilk satır')\n",
        "print()               # Boş bir satır bırakır.\n",
        "print('ikinci satır')"
      ],
      "metadata": {
        "colab": {
          "base_uri": "https://localhost:8080/"
        },
        "id": "p0uI_ZrC30Du",
        "outputId": "d0bacf1b-4dc8-47b9-be18-5e79c7d19783"
      },
      "execution_count": 24,
      "outputs": [
        {
          "output_type": "stream",
          "name": "stdout",
          "text": [
            "ilk satır\n",
            "\n",
            "ikinci satır\n"
          ]
        }
      ]
    },
    {
      "cell_type": "code",
      "source": [
        "print ('1.satır')\n",
        "print ()            # 2. boş satır bırakır.\n",
        "print ('')\n",
        "print('4.satır')\n"
      ],
      "metadata": {
        "colab": {
          "base_uri": "https://localhost:8080/"
        },
        "id": "HNf_vjWa8jjF",
        "outputId": "6b59a495-1f4f-4d1e-b585-c194cb174222"
      },
      "execution_count": 27,
      "outputs": [
        {
          "output_type": "stream",
          "name": "stdout",
          "text": [
            "1.satır\n",
            "\n",
            "\n",
            "4.satır\n"
          ]
        }
      ]
    },
    {
      "cell_type": "markdown",
      "source": [
        "# PEP 8 NEDİR?\n",
        "Pyton geliştirici önerileri demektir.\n",
        "Bu önerilere uyarsanız kodunuzu güzelleştirecektir.\n",
        "Bir proje içerisinde kullanmanız çok daha önemli.\n",
        "Bir programcının vaktinin çoğu yazmakla değil okumakla geçer bu yüzden kodların okunabilirliğini arttıran şey PEP8 kurallarıdır.\n",
        "\n",
        "\n",
        "\n",
        "PYTHON RESMİ SİTESİ\n",
        "https://peps.python.org/pep-0008/#a-foolish-consistency-is-the-hobgoblin-of-little-minds\n",
        "\n",
        "buradan da rahatça öğrenebilirsiniz."
      ],
      "metadata": {
        "id": "xy_zO6z6-qm_"
      }
    },
    {
      "cell_type": "markdown",
      "source": [
        "**YORUM SATIRLARI** COMMENT  \n",
        "\n",
        "-Yorum satırları programcı için yazılır.\n",
        "- hash karakteri kullanılır, bu karakterden sonra derleyicisi yorumlamaz.\n",
        "\n",
        "\n",
        "\n"
      ],
      "metadata": {
        "id": "DQEHtLYYHBxz"
      }
    },
    {
      "cell_type": "code",
      "source": [
        "print ('MERHABA')  # Print ('MERHABA') anlamında. Basit şeyler için yorumlar kullanılmaz.\n",
        "                   # Karmaşık kodlarda açıklamak için kullanılır.\n",
        "                   # Çok satırlı yorumlar için hash karakteri alt alta kullanılabilir."
      ],
      "metadata": {
        "colab": {
          "base_uri": "https://localhost:8080/"
        },
        "id": "ehLxs3PUHkp3",
        "outputId": "40d95ae0-ecc6-4034-f3fb-cd1a5356da4a"
      },
      "execution_count": 28,
      "outputs": [
        {
          "output_type": "stream",
          "name": "stdout",
          "text": [
            "MERHABA\n"
          ]
        }
      ]
    },
    {
      "cell_type": "code",
      "source": [],
      "metadata": {
        "id": "D-Kx07PWIpJI"
      },
      "execution_count": null,
      "outputs": []
    }
  ]
}