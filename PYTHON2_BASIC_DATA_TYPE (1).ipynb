{
  "nbformat": 4,
  "nbformat_minor": 0,
  "metadata": {
    "colab": {
      "provenance": []
    },
    "kernelspec": {
      "name": "python3",
      "display_name": "Python 3"
    },
    "language_info": {
      "name": "python"
    }
  },
  "cells": [
    {
      "cell_type": "code",
      "execution_count": null,
      "metadata": {
        "colab": {
          "base_uri": "https://localhost:8080/"
        },
        "id": "GO-gMio7JLGp",
        "outputId": "b3a12dc7-6dca-48d9-e5f0-efa8fed4abd2"
      },
      "outputs": [
        {
          "output_type": "stream",
          "name": "stdout",
          "text": [
            "num1,num2\n"
          ]
        }
      ],
      "source": [
        "# Değişken içeriğini yazdırma.\n",
        "\n",
        "num1 = 5\n",
        "num2 = 10\n",
        "print('num1,num2')\n"
      ]
    },
    {
      "cell_type": "code",
      "source": [
        "num1 = 5        #Değişken içeriği yazdırma da tırnak kullanılmaz.\n",
        "num2 = 10\n",
        "print(num1,num2)"
      ],
      "metadata": {
        "colab": {
          "base_uri": "https://localhost:8080/"
        },
        "id": "byd305L8SQqj",
        "outputId": "2f5c9d88-ce73-43d5-fd41-699ecda7dea1"
      },
      "execution_count": null,
      "outputs": [
        {
          "output_type": "stream",
          "name": "stdout",
          "text": [
            "5 10\n"
          ]
        }
      ]
    },
    {
      "cell_type": "code",
      "source": [
        "#Değişken içeriği yazdırma da tırnak kullanılmaz.\n",
        "#İstene çıktı : num1:5 , num2:10\n",
        "num1 = 5\n",
        "num2 = 10\n",
        "print('num1:',num1,',num2:' ,num2)"
      ],
      "metadata": {
        "colab": {
          "base_uri": "https://localhost:8080/"
        },
        "id": "vpWBGogLSclh",
        "outputId": "a03a6f93-b0ee-4431-b029-b0748754a820"
      },
      "execution_count": null,
      "outputs": [
        {
          "output_type": "stream",
          "name": "stdout",
          "text": [
            "num1: 5 ,num2: 10\n"
          ]
        }
      ]
    },
    {
      "cell_type": "markdown",
      "source": [
        "**VARIABLE/DEĞİŞKENLER**\n",
        "\n",
        "-Değişkenin ismini biz belirliyoruz.\n",
        "-PEP8 önerilerini kullanarak isim vermek en iyisi.\n",
        "-Anlaşılabilir isimler konulmalıdır başkalarınında anlaması için."
      ],
      "metadata": {
        "id": "YufVha1OUaPm"
      }
    },
    {
      "cell_type": "code",
      "source": [
        "#variable=value (=) atama oporatörüdür. value değerdir ve variable ye eklenir.\n",
        "#Yani her zaman eşitliğin sağ tarafı sol tarafa aktarılır.\n",
        "\n",
        "pi_num = 3.15\n",
        "name_surname = 'CATE BLANCHETT'\n",
        "print(pi_num)\n",
        "print(name_surname)"
      ],
      "metadata": {
        "colab": {
          "base_uri": "https://localhost:8080/"
        },
        "id": "xTXJ0WTjVNLJ",
        "outputId": "ed402603-2a7b-47c5-b892-f788fa5615e2"
      },
      "execution_count": null,
      "outputs": [
        {
          "output_type": "stream",
          "name": "stdout",
          "text": [
            "3.15\n",
            "CATE BLANCHETT\n"
          ]
        }
      ]
    },
    {
      "cell_type": "code",
      "source": [
        "#3 değişken tanımlayıp yazdır.\n",
        "name = 'Cate'\n",
        "surname = 'Blanchett'\n",
        "geburtsdatum = '14.05.1969'\n",
        "print(name,surname,geburtsdatum)"
      ],
      "metadata": {
        "colab": {
          "base_uri": "https://localhost:8080/"
        },
        "id": "Iaz7FBs3Whu9",
        "outputId": "8a2b62f1-30b5-4f7e-dc59-91b143f6f785"
      },
      "execution_count": null,
      "outputs": [
        {
          "output_type": "stream",
          "name": "stdout",
          "text": [
            "Cate Blanchett 14.05.1969\n"
          ]
        }
      ]
    },
    {
      "cell_type": "code",
      "source": [
        "#my_age de hangi değeri görürüz ?\n",
        "\n",
        "my_age = 33\n",
        "your_age = 34\n",
        "my_age = your_age    #UPDATE/GÜNCELLEME yapıldı. my_age your_ age ye aktarıldı.\n",
        "print(my_age)"
      ],
      "metadata": {
        "colab": {
          "base_uri": "https://localhost:8080/"
        },
        "id": "oJ5m1cXgXStW",
        "outputId": "ef69ef7e-dd9e-4843-ae0f-1b7eb1b0ff05"
      },
      "execution_count": null,
      "outputs": [
        {
          "output_type": "stream",
          "name": "stdout",
          "text": [
            "34\n"
          ]
        }
      ]
    },
    {
      "cell_type": "code",
      "source": [
        "#Değişken isimlerinde küçük harfler kullanın birden fazla kelimden oluşuyor ise aralarında ayrıştırmak için alt tire (_) kullanılır.\n",
        "\n",
        "my_age = 33\n",
        "your_age = 34\n",
        "my_age = your_age    #UPDATE/GÜNCELLEME yapıldı. my_age your_ age ye aktarıldı.\n",
        "print(my_age)"
      ],
      "metadata": {
        "id": "xCClElK5X0hC",
        "colab": {
          "base_uri": "https://localhost:8080/"
        },
        "outputId": "faba6559-16d3-452d-c7af-ee8b3d3ee123"
      },
      "execution_count": null,
      "outputs": [
        {
          "output_type": "stream",
          "name": "stdout",
          "text": [
            "34\n"
          ]
        }
      ]
    },
    {
      "cell_type": "code",
      "source": [
        "#Keyword / Anahtar listesi alma.\n",
        "import keyword\n",
        "print(keyword.kwlist)\n"
      ],
      "metadata": {
        "colab": {
          "base_uri": "https://localhost:8080/"
        },
        "id": "WX0mRIHCayW_",
        "outputId": "15ca245d-a489-462c-bebf-1bb0add930af"
      },
      "execution_count": null,
      "outputs": [
        {
          "output_type": "stream",
          "name": "stdout",
          "text": [
            "['False', 'None', 'True', 'and', 'as', 'assert', 'async', 'await', 'break', 'class', 'continue', 'def', 'del', 'elif', 'else', 'except', 'finally', 'for', 'from', 'global', 'if', 'import', 'in', 'is', 'lambda', 'nonlocal', 'not', 'or', 'pass', 'raise', 'return', 'try', 'while', 'with', 'yield']\n"
          ]
        }
      ]
    },
    {
      "cell_type": "markdown",
      "source": [
        "**PEP8 KURALLARI VE ÖNERİLERİ :**\n",
        "\n",
        "1. Değişken isimlerinde küçük harf kullanılmalı #öneri\n",
        "2. Değişken ismi birkaç kelimeden oluşuyorsa arada \"_\" kullan\n",
        "3. Değişken isimleri anlaşılır olmalı,\n",
        "4. Kafa karıştıran karakterler kullanılmamalı (l,I,o,..)\n",
        "5. Python keywords (reserved words) değişken ismi olarak kullanılmamalı (öneri değil, kural)\n",
        "6. keyword listesi dışında Python built-in fonksiyonlarını değişken ismi olarak kullanmmalıyız (print, input, sum, map,....)\n",
        "7. Değişken isimleri rakamla başlamaz. Ama sonrası rakam içerebilir.\n",
        "8. Değişken isimlerinde boşluk dahil özel karakterler (,-;#$/()..)kullanılmaz ('_' hariç)\n",
        "9. Herkes tarafından bilinen kısaltmalar(jan,oct, avr, ...) kullanılabilir. # öneri\n",
        "10. 3 kelimeden uzun değişken adı da kullanılmamalı (avg_income_feb_...)  # öneri"
      ],
      "metadata": {
        "id": "_jhhG8wTc1qy"
      }
    },
    {
      "cell_type": "code",
      "source": [
        "#Pythonda küçük-büyük harf ayrımı vardır.\n",
        "true =1\n",
        "print(true)"
      ],
      "metadata": {
        "colab": {
          "base_uri": "https://localhost:8080/"
        },
        "id": "shEQLc2Bb0oK",
        "outputId": "f8867467-832e-4d6e-b393-d471ce8fe106"
      },
      "execution_count": null,
      "outputs": [
        {
          "output_type": "stream",
          "name": "stdout",
          "text": [
            "1\n"
          ]
        }
      ]
    },
    {
      "cell_type": "code",
      "source": [
        "# PEP-8 önerisi: Değişkenlere anlamlı isimler verilmelidir.\n",
        "number = 1000\n",
        "message = \"Hallo\"\n",
        "pi_num = 3.14\n",
        "print(number)\n",
        "print(message)\n",
        "print(pi_num)"
      ],
      "metadata": {
        "id": "VSzEYi88dMgf"
      },
      "execution_count": null,
      "outputs": []
    },
    {
      "cell_type": "code",
      "source": [
        "# Değişkenlere değer atama operatörü olarak '=' kullanılır. Ve her zaman\n",
        "# eşitliğin sağ tarafı sol tarafa aktarılır.\n",
        "pi_number = 3.14\n",
        "name_surname = \"Mehlika Sultan\""
      ],
      "metadata": {
        "id": "W7NDmidIepC7"
      },
      "execution_count": null,
      "outputs": []
    },
    {
      "cell_type": "code",
      "source": [
        "#31-30-28 çeken ayları bir araya getirmek.\n",
        "#Tek satırda çoklu atama.\n",
        "\n",
        "jan = march = may = july = august = oct = dec = 31\n",
        "april = june = sept = nov = 30\n",
        "feb = 28\n",
        "print(jan, feb, march, april, may, june, july, august, sept, oct, nov, dec)"
      ],
      "metadata": {
        "id": "Ivw27Soxe5tn"
      },
      "execution_count": null,
      "outputs": []
    },
    {
      "cell_type": "code",
      "source": [
        "# Soru: iki değişkenin içeriğini yer değiştirme\n",
        "x = 15\n",
        "y = 33\n",
        "# out: x = 33, y = 15\n",
        "x, y  = y, x\n",
        "print(x)\n",
        "print(y)"
      ],
      "metadata": {
        "id": "HmFqlRIye6dO"
      },
      "execution_count": null,
      "outputs": []
    },
    {
      "cell_type": "code",
      "source": [
        "# Birden fazla değişkene tek satırda değer atama yapılabilir.\n",
        "x = y = z = 'world'\n",
        "print(x)\n",
        "print(y)\n",
        "print(z)\n"
      ],
      "metadata": {
        "colab": {
          "base_uri": "https://localhost:8080/"
        },
        "id": "PXy9aYjHfKEv",
        "outputId": "b633447f-cbad-4cdb-9023-9ac56d3659e5"
      },
      "execution_count": null,
      "outputs": [
        {
          "output_type": "stream",
          "name": "stdout",
          "text": [
            "world\n",
            "world\n",
            "world\n"
          ]
        }
      ]
    },
    {
      "cell_type": "code",
      "source": [
        "#Değişkene hangi değeri atayacağımıza henüz karar veremediysek ne yapmalıyız ?\n",
        "thomas = 34\n",
        "jane = 27\n",
        "mary = None # ? / # BOŞ DEĞER ATAMA\n",
        "susanne = 29\n",
        "print(thomas, jane, mary, susanne)\n"
      ],
      "metadata": {
        "colab": {
          "base_uri": "https://localhost:8080/"
        },
        "id": "DvvNHsdgfpp4",
        "outputId": "2be89bb0-a92a-473a-90a2-91803c2a6193"
      },
      "execution_count": null,
      "outputs": [
        {
          "output_type": "stream",
          "name": "stdout",
          "text": [
            "34 27 None 29\n"
          ]
        }
      ]
    },
    {
      "cell_type": "code",
      "source": [
        "print (mary)"
      ],
      "metadata": {
        "colab": {
          "base_uri": "https://localhost:8080/"
        },
        "id": "sM-PjlcDiEJl",
        "outputId": "e73b370e-9217-44f1-889b-d6ea8b5178ea"
      },
      "execution_count": null,
      "outputs": [
        {
          "output_type": "stream",
          "name": "stdout",
          "text": [
            "None\n"
          ]
        }
      ]
    },
    {
      "cell_type": "code",
      "source": [
        "#Güncelleme/Update işlemi burada yapıldı.\n",
        "website = 'appele.com'\n",
        "print(website)\n",
        "website = 'amazon.com' # burada en son değer olarak 'amazon.com' atandı. Web sitesi güncellendi.\n",
        "print(website)"
      ],
      "metadata": {
        "colab": {
          "base_uri": "https://localhost:8080/"
        },
        "id": "A-ABzyDAg5oz",
        "outputId": "fad08c52-de0e-43c7-eeda-fdae53f9fb82"
      },
      "execution_count": null,
      "outputs": [
        {
          "output_type": "stream",
          "name": "stdout",
          "text": [
            "appele.com\n",
            "amazon.com\n"
          ]
        }
      ]
    },
    {
      "cell_type": "code",
      "source": [
        "#String olarak yazdırdığımız için çıktısı first_number olacak ama tırnak içinde olmaz ise sonuç yani 200 çıkacaktı.\n",
        "first_number = 200\n",
        "second_number = 'first_number'\n",
        "print(second_number)\n"
      ],
      "metadata": {
        "colab": {
          "base_uri": "https://localhost:8080/"
        },
        "id": "JgoMxDQAhkvO",
        "outputId": "45eff6e8-f91a-47fd-8505-04a3720428ab"
      },
      "execution_count": null,
      "outputs": [
        {
          "output_type": "stream",
          "name": "stdout",
          "text": [
            "first_number\n"
          ]
        }
      ]
    },
    {
      "cell_type": "code",
      "source": [
        "\n",
        "first_number = 200\n",
        "second_number = first_number\n",
        "print(second_number)\n"
      ],
      "metadata": {
        "colab": {
          "base_uri": "https://localhost:8080/"
        },
        "id": "RAzVBenuiq-0",
        "outputId": "304ab0b7-f962-4962-ddfb-bfcb38b4bee4"
      },
      "execution_count": null,
      "outputs": [
        {
          "output_type": "stream",
          "name": "stdout",
          "text": [
            "200\n"
          ]
        }
      ]
    },
    {
      "cell_type": "code",
      "source": [
        "#Her zaman eşitliğin sağ tarafı sol tarafa aktarılır.\n",
        "\n",
        "a = 35\n",
        "b = 27\n",
        "\n",
        "c = b\n",
        "b = a\n",
        "print (a)\n",
        "print (b)\n",
        "print (c)"
      ],
      "metadata": {
        "colab": {
          "base_uri": "https://localhost:8080/"
        },
        "id": "JSU8SHQNixRy",
        "outputId": "655a3c98-ec1e-464e-e86f-5c511e84bbb6"
      },
      "execution_count": null,
      "outputs": [
        {
          "output_type": "stream",
          "name": "stdout",
          "text": [
            "35\n",
            "35\n",
            "27\n"
          ]
        }
      ]
    },
    {
      "cell_type": "code",
      "source": [
        "#SORU:2 değişkenin içeriğini yer değiştirme.\n",
        "x = 29\n",
        "y = 32\n",
        "#out= x = 29 , y = 32\n",
        "x,y = y,x\n",
        "print (x)\n",
        "print (y)\n"
      ],
      "metadata": {
        "colab": {
          "base_uri": "https://localhost:8080/"
        },
        "id": "YCZpov9RkGT_",
        "outputId": "7ce96def-0d87-4d58-d289-7d7e987f9e62"
      },
      "execution_count": null,
      "outputs": [
        {
          "output_type": "stream",
          "name": "stdout",
          "text": [
            "32\n",
            "29\n"
          ]
        }
      ]
    },
    {
      "cell_type": "code",
      "source": [
        "#Diğer dillerde (C, C++, Java, .....) 3. değişken kullanmanız gerekiyor.\n",
        "x = 25\n",
        "y = 29\n",
        "z = None\n",
        "\n",
        "z = x\n",
        "x = y\n",
        "y = z\n",
        "\n",
        "print (x)\n",
        "print (y)"
      ],
      "metadata": {
        "colab": {
          "base_uri": "https://localhost:8080/"
        },
        "id": "F4ZZE-rslBEn",
        "outputId": "6df3a804-6921-4a6f-f938-ae5b3c8f4714"
      },
      "execution_count": null,
      "outputs": [
        {
          "output_type": "stream",
          "name": "stdout",
          "text": [
            "29\n",
            "25\n"
          ]
        }
      ]
    },
    {
      "cell_type": "code",
      "source": [
        "#SORU : A-B-C ye ne gider ?\n",
        "#Was ist the output?\n",
        "\n",
        "a,b,c = 3,2.5,'Hİ!'\n",
        "\n",
        "print (a,b,c)"
      ],
      "metadata": {
        "colab": {
          "base_uri": "https://localhost:8080/"
        },
        "id": "alU8fqwHltSa",
        "outputId": "beafa160-1f80-4f24-857a-1cd14d85ac93"
      },
      "execution_count": null,
      "outputs": [
        {
          "output_type": "stream",
          "name": "stdout",
          "text": [
            "3 2.5 Hİ!\n"
          ]
        }
      ]
    },
    {
      "cell_type": "code",
      "source": [
        "#Variables (değişkenler) = values (değeri)\n",
        "#Eşit olması gerekiyor.\n",
        "a,b,c = 3,2.5,'Hİ!'\n",
        "\n",
        "print (a)\n",
        "print (b)\n",
        "print (c)\n"
      ],
      "metadata": {
        "colab": {
          "base_uri": "https://localhost:8080/"
        },
        "id": "g2295rN7mWZC",
        "outputId": "944eaa7c-9f09-437e-f979-1cbc269d4aca"
      },
      "execution_count": null,
      "outputs": [
        {
          "output_type": "stream",
          "name": "stdout",
          "text": [
            "3\n",
            "2.5\n",
            "Hİ!\n"
          ]
        }
      ]
    },
    {
      "cell_type": "code",
      "source": [
        "#Güncelleme/Update oldu.\n",
        "\n",
        "man = 'David'\n",
        "color = 'Blau'\n",
        "age = 32\n",
        "pi = 3.0\n",
        "color ='yellow'\n",
        "age = 33\n",
        "man = 'Hans'\n",
        "print (man, age, color)"
      ],
      "metadata": {
        "colab": {
          "base_uri": "https://localhost:8080/"
        },
        "id": "sKU8yE3G3nl5",
        "outputId": "7fa220be-693a-40b1-dca0-5f142618b13f"
      },
      "execution_count": null,
      "outputs": [
        {
          "output_type": "stream",
          "name": "stdout",
          "text": [
            "Hans 33 yellow\n"
          ]
        }
      ]
    },
    {
      "cell_type": "code",
      "source": [
        "#DATA Type (VERİ TİPLERİ)\n",
        "#Değişkenin tipini öğrenmek için type deyimi kullanılır.\n",
        "#Tırnak içerisine aldığımız her şey string str olarak görülür.\n",
        "my_text = 'Hello World'\n",
        "print(type(my_text))"
      ],
      "metadata": {
        "colab": {
          "base_uri": "https://localhost:8080/"
        },
        "id": "C8CV-Vxb4nJK",
        "outputId": "3060122d-b6f2-4937-a216-c640a8eae5eb"
      },
      "execution_count": null,
      "outputs": [
        {
          "output_type": "stream",
          "name": "stdout",
          "text": [
            "<class 'str'>\n"
          ]
        }
      ]
    },
    {
      "cell_type": "code",
      "source": [
        "#Değişkenin tipini öğrenmek için type deyimi kullanılır.\n",
        "#İNT tipi sayı tipidir.\n",
        "int_num1 = 173\n",
        "int_num2 = -12\n",
        "print(type(int_num1))\n",
        "print(type(int_num2))"
      ],
      "metadata": {
        "colab": {
          "base_uri": "https://localhost:8080/"
        },
        "id": "8n5vJGb15V0v",
        "outputId": "04481ab1-3140-40e9-dfff-2d49434a1a61"
      },
      "execution_count": null,
      "outputs": [
        {
          "output_type": "stream",
          "name": "stdout",
          "text": [
            "<class 'int'>\n",
            "<class 'int'>\n"
          ]
        }
      ]
    },
    {
      "cell_type": "code",
      "source": [
        "#FLOAT tipi noktalı sayılar varsa yani kesirli sayılar bu float veri tipi oluyor.\n",
        "#Çıktısı out : floattır.\n",
        "my_float1 = 3.14\n",
        "my_float2 = -1.56\n",
        "print(type(my_float1))\n",
        "print(type(my_float2))\n"
      ],
      "metadata": {
        "colab": {
          "base_uri": "https://localhost:8080/"
        },
        "id": "lLZwg_GF6rnd",
        "outputId": "ce678ae8-2e58-46e5-e64c-5bb7e15190ea"
      },
      "execution_count": null,
      "outputs": [
        {
          "output_type": "stream",
          "name": "stdout",
          "text": [
            "<class 'float'>\n",
            "<class 'float'>\n"
          ]
        }
      ]
    },
    {
      "cell_type": "code",
      "source": [
        "#BOOLEAN VERİ TİPİ (bool)\n",
        "#Bir değişkenin 2 durumunu ifade eder. Bir şey vardır ya da yoktur.\n",
        "#Varsa TRUE = 1  yoksa FALSE = 0 dır.\n",
        "#Python C tabanlı bir dil olduğu için C den bu kuralı almıştır.\n",
        "\n",
        "my_bool1 = True\n",
        "my_bool2 = False\n",
        "\n",
        "print(type(my_bool1))\n",
        "print(type(my_bool2))"
      ],
      "metadata": {
        "colab": {
          "base_uri": "https://localhost:8080/"
        },
        "id": "zoUJotRH7VQ-",
        "outputId": "f399df9a-6c10-4848-9a3c-7e7defc22ec9"
      },
      "execution_count": null,
      "outputs": [
        {
          "output_type": "stream",
          "name": "stdout",
          "text": [
            "<class 'bool'>\n",
            "<class 'bool'>\n"
          ]
        }
      ]
    },
    {
      "cell_type": "code",
      "source": [
        "#TİP DÖNÜŞÜMÜ / TYPE CONVERSİON\n",
        "#int-str ye dönüşümü\n",
        "#Python da her şeyi str veri tipine dönüştürülebilir.\n",
        "#Veri hangi tipe dönüşecekse o tip sarmalına alınır.\n",
        "num1 = 5\n",
        "num2 = 6\n",
        "print(type(str(num1)))\n",
        "print(type(str(num2)))\n"
      ],
      "metadata": {
        "colab": {
          "base_uri": "https://localhost:8080/"
        },
        "id": "JF5_-L1p8OKU",
        "outputId": "5b0d7043-1d88-4f8a-dcbf-b32978c52f8b"
      },
      "execution_count": null,
      "outputs": [
        {
          "output_type": "stream",
          "name": "stdout",
          "text": [
            "<class 'str'>\n",
            "<class 'str'>\n"
          ]
        }
      ]
    },
    {
      "cell_type": "code",
      "source": [
        "num1 = 5\n",
        "num2 = 6\n",
        "print(str(num1) + str(num2)) #birleştirme (concat)"
      ],
      "metadata": {
        "colab": {
          "base_uri": "https://localhost:8080/"
        },
        "id": "GH1m-MhW_2dh",
        "outputId": "60570e9c-23e9-4b8b-e068-fc8dc4f743ad"
      },
      "execution_count": null,
      "outputs": [
        {
          "output_type": "stream",
          "name": "stdout",
          "text": [
            "56\n"
          ]
        }
      ]
    },
    {
      "cell_type": "code",
      "source": [
        "#\n",
        "pi = 1.34\n",
        "conv_pi = str(pi)\n",
        "print (conv_pi)\n",
        "print (type(conv_pi))"
      ],
      "metadata": {
        "colab": {
          "base_uri": "https://localhost:8080/"
        },
        "id": "iANJNE0oAnWn",
        "outputId": "9cb92a20-6a31-48ec-a8dd-ac6163bd4f19"
      },
      "execution_count": null,
      "outputs": [
        {
          "output_type": "stream",
          "name": "stdout",
          "text": [
            "1.34\n",
            "<class 'str'>\n"
          ]
        }
      ]
    },
    {
      "cell_type": "code",
      "source": [
        "#Tip dönüşümünde küçük veri tipleri büyük veri tiplerine dönüşürken bir veri kaybı yaşamaz.\n",
        "#Fakat tersi durumda veri kaybı yaşanır.\n",
        "#float > int\n",
        "#str > float > int > bool\n",
        "# sadece tam sayıyı alır bir veri kaybı vardır. 1.34 den sadece 1 i alır.\n",
        "pi = 1.34\n",
        "conv_pi = int(pi)\n",
        "print (conv_pi)\n",
        "print (type(conv_pi))\n"
      ],
      "metadata": {
        "colab": {
          "base_uri": "https://localhost:8080/"
        },
        "id": "QgK_-3nvBb9l",
        "outputId": "5d876c2a-e0b6-4fb3-ac86-671b66f79eee"
      },
      "execution_count": null,
      "outputs": [
        {
          "output_type": "stream",
          "name": "stdout",
          "text": [
            "1\n",
            "<class 'int'>\n"
          ]
        }
      ]
    },
    {
      "cell_type": "code",
      "source": [
        "pi = 1.34\n",
        "conv_pi = float(pi)\n",
        "print (conv_pi)\n",
        "print (type(conv_pi))"
      ],
      "metadata": {
        "colab": {
          "base_uri": "https://localhost:8080/"
        },
        "id": "SLHKVq6PCl46",
        "outputId": "4057dec9-0f62-4b14-8b36-5337f5bfd27a"
      },
      "execution_count": null,
      "outputs": [
        {
          "output_type": "stream",
          "name": "stdout",
          "text": [
            "1.34\n",
            "<class 'float'>\n"
          ]
        }
      ]
    },
    {
      "cell_type": "code",
      "source": [
        "#Her sayıyı int e dönüştüremeyiz.\n",
        "#Eğer string ifademiz sayılardan oluşuyorsa o zaman dönüştürebiliriz.\n",
        "# + operatörü ile birleştirme yaparken sadece aynı veri tipi kullanılmalıdır.\n",
        "x = 30\n",
        "v = '28'\n",
        "y = '3.5'\n",
        "z = 'I am at_'\n",
        "\n",
        "print (x-int(v))\n",
        "print (x-float(y))\n",
        "print (z+str(x))\n"
      ],
      "metadata": {
        "colab": {
          "base_uri": "https://localhost:8080/"
        },
        "id": "qDQbTcfHCzyH",
        "outputId": "d0c812f0-b66a-449f-f59b-c5cd27999411"
      },
      "execution_count": null,
      "outputs": [
        {
          "output_type": "stream",
          "name": "stdout",
          "text": [
            "2\n",
            "26.5\n",
            "I am at_30\n"
          ]
        }
      ]
    },
    {
      "cell_type": "code",
      "source": [
        "# 2 str i birleştirdi inte dönüştürdü.\n",
        "#5 ile 1 i birleştirdi. str.\n",
        "print (int(\"5\" + \"1\"))      #  51\n",
        "print (str (\"5\" + \"1\"))     # '51'\n",
        "print (\"5\" + \"1\")           # '51'"
      ],
      "metadata": {
        "colab": {
          "base_uri": "https://localhost:8080/"
        },
        "id": "koULSRC-HEEl",
        "outputId": "66bfa267-8df3-463e-fc18-9b7e324947d1"
      },
      "execution_count": null,
      "outputs": [
        {
          "output_type": "stream",
          "name": "stdout",
          "text": [
            "51\n",
            "51\n",
            "51\n"
          ]
        }
      ]
    },
    {
      "cell_type": "code",
      "source": [
        "number_int = 123\n",
        "number_float  = 1.23\n",
        "number_new = number_float + number_int\n",
        "print (\"number_new:\" ,number_new)\n",
        "print (\"number_new:\" + str(number_new))\n",
        "\n",
        "print (\"number_int = \",type (number_int))\n",
        "print (\"number_float = \",type (number_float))\n"
      ],
      "metadata": {
        "colab": {
          "base_uri": "https://localhost:8080/"
        },
        "id": "w_Cgb6Dc1L3e",
        "outputId": "ac473161-f49b-4e74-cf96-2d6953cff7d7"
      },
      "execution_count": null,
      "outputs": [
        {
          "output_type": "stream",
          "name": "stdout",
          "text": [
            "number_new: 124.23\n",
            "number_new:124.23\n",
            "number_int =  <class 'int'>\n",
            "number_float =  <class 'float'>\n"
          ]
        }
      ]
    },
    {
      "cell_type": "code",
      "source": [
        "num_int = 123\n",
        "num_flt = 1.23\n",
        "num_new = num_int + num_flt # 123+1.23 = 124.23\n",
        "\n",
        "print (num_new) # toplama işleminin sonucunu yazacak.\n",
        "print (type(num_new)) # sonucun tipini yazacak."
      ],
      "metadata": {
        "colab": {
          "base_uri": "https://localhost:8080/"
        },
        "id": "jmBAJ_196bCD",
        "outputId": "829397a6-6f74-4b9b-dd0c-7df7ebfeb22e"
      },
      "execution_count": null,
      "outputs": [
        {
          "output_type": "stream",
          "name": "stdout",
          "text": [
            "124.23\n",
            "<class 'float'>\n"
          ]
        }
      ]
    },
    {
      "cell_type": "code",
      "source": [
        "#Matematiksel işlemlerde True : 1 , False : 0 dır.\n",
        "num_int = 123\n",
        "num_bool = True\n",
        "num_new = num_int + num_bool # 123+1.23 = 124.23\n",
        "\n",
        "print (num_new) # toplama işleminin sonucunu yazacak.\n",
        "print (type(num_new)) # sonucun tipini yazacak."
      ],
      "metadata": {
        "id": "LtwSoYB17SnN"
      },
      "execution_count": null,
      "outputs": []
    },
    {
      "cell_type": "code",
      "source": [
        "#İnt ile Str birleştirilemez.\n",
        "num_int = 123\n",
        "num_str = \"456\"\n",
        "print ('Data type of num_int: ', type(num_int)) # type : veri tipinin int olduğunu gösteriyor.\n",
        "print ('Data type of num_str: ', type(num_str)) # type : veri tipinin str olduğunu gösteriyor."
      ],
      "metadata": {
        "colab": {
          "base_uri": "https://localhost:8080/"
        },
        "id": "GK-Ls-IH704Y",
        "outputId": "0912ea7e-4fe9-4b7c-d7ef-f117172e5fb2"
      },
      "execution_count": null,
      "outputs": [
        {
          "output_type": "stream",
          "name": "stdout",
          "text": [
            "Data type of num_int:  <class 'int'>\n",
            "Data type of num_str:  <class 'str'>\n"
          ]
        }
      ]
    },
    {
      "cell_type": "code",
      "source": [
        "123 + True # 1 dir."
      ],
      "metadata": {
        "colab": {
          "base_uri": "https://localhost:8080/"
        },
        "id": "OyK5SzZNAuuB",
        "outputId": "a37804f7-278f-46bc-b3c7-3973d7ac4fc5"
      },
      "execution_count": null,
      "outputs": [
        {
          "output_type": "execute_result",
          "data": {
            "text/plain": [
              "124"
            ]
          },
          "metadata": {},
          "execution_count": 38
        }
      ]
    },
    {
      "cell_type": "code",
      "source": [
        "123 + False # 0 dır."
      ],
      "metadata": {
        "colab": {
          "base_uri": "https://localhost:8080/"
        },
        "id": "_v3qKn--Az1g",
        "outputId": "b91c116b-1182-42c2-c2b5-a126f7620f77"
      },
      "execution_count": null,
      "outputs": [
        {
          "output_type": "execute_result",
          "data": {
            "text/plain": [
              "123"
            ]
          },
          "metadata": {},
          "execution_count": 39
        }
      ]
    },
    {
      "cell_type": "code",
      "source": [
        "num_int = 123\n",
        "num_str = \"456\"\n",
        "print ('Data type of num_int: ', type(num_int)) # type : veri tipinin int olduğunu gösteriyor.\n",
        "print ('Data type of num_str: ', type(num_str)) # type : veri tipinin str olduğunu gösteriyor.\n",
        "\n",
        "num_str = int(num_str)\n",
        "print ('Data type of num_str after Type Casting: ', type(num_str)) # 456 str int e dönüştü.\n",
        "\n",
        "num_sum = num_int + num_str #toplanınca sonuç : 456 + 123 = 579\n",
        "\n",
        "print ('Sum of num_int and num_str:', type (num_sum)) # 579 un tipi nedir denildiğinde int gösterecek.\n",
        "\n",
        "# type : veri tipinin Str olduğunu gösteriyor.\n",
        "#İnt sarmalına alındı ve str ye tip dönüşümü yapıldı ve tırnak işaretleri kalktı ve 456 gözükür."
      ],
      "metadata": {
        "colab": {
          "base_uri": "https://localhost:8080/"
        },
        "id": "eIzzlyCXBVT9",
        "outputId": "8cd245c2-0884-4391-c7d7-f7ea396f9df5"
      },
      "execution_count": null,
      "outputs": [
        {
          "output_type": "stream",
          "name": "stdout",
          "text": [
            "Data type of num_int:  <class 'int'>\n",
            "Data type of num_str:  <class 'str'>\n",
            "Data type of num_str after Type Casting:  <class 'int'>\n",
            "Sum of num_int and num_str: <class 'int'>\n"
          ]
        }
      ]
    }
  ]
}